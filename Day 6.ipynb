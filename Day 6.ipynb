{
 "cells": [
  {
   "cell_type": "code",
   "execution_count": 43,
   "metadata": {},
   "outputs": [],
   "source": [
    "import pandas as pd\n",
    "filepath =r'C:\\Users\\MINAKSHI KISKU\\Desktop\\File Path/RegularSeasonCompactResult.csv'\n",
    "def readCsvData(filepath):\n",
    "    return pd.read_csv(filepath)\n",
    "df=readCsvData(filepath)"
   ]
  },
  {
   "cell_type": "markdown",
   "metadata": {},
   "source": [
    "### Groupby\n"
   ]
  },
  {
   "cell_type": "code",
   "execution_count": 44,
   "metadata": {},
   "outputs": [
    {
     "data": {
      "text/plain": [
       "['Season', 'Daynum', 'Wteam', 'Wscore', 'Lteam', 'Lscore', 'Wloc', 'Numot']"
      ]
     },
     "execution_count": 44,
     "metadata": {},
     "output_type": "execute_result"
    }
   ],
   "source": [
    "df.columns.tolist()"
   ]
  },
  {
   "cell_type": "code",
   "execution_count": 45,
   "metadata": {},
   "outputs": [
    {
     "data": {
      "text/plain": [
       "Wteam\n",
       "1101.0    78.111111\n",
       "1102.0    69.893204\n",
       "1103.0    75.839768\n",
       "1104.0    75.825944\n",
       "1105.0    74.960894\n",
       "Name: Wscore, dtype: float64"
      ]
     },
     "execution_count": 45,
     "metadata": {},
     "output_type": "execute_result"
    }
   ],
   "source": [
    "df.groupby('Wteam')['Wscore'].mean().head()"
   ]
  },
  {
   "cell_type": "code",
   "execution_count": 46,
   "metadata": {},
   "outputs": [
    {
     "data": {
      "text/plain": [
       "Wteam\n",
       "1460.0    75.531469\n",
       "1461.0    75.170082\n",
       "1462.0    79.906021\n",
       "1463.0    71.720102\n",
       "1464.0    73.926056\n",
       "Name: Wscore, dtype: float64"
      ]
     },
     "execution_count": 46,
     "metadata": {},
     "output_type": "execute_result"
    }
   ],
   "source": [
    "df.groupby('Wteam')['Wscore'].mean().tail()"
   ]
  },
  {
   "cell_type": "code",
   "execution_count": 47,
   "metadata": {},
   "outputs": [],
   "source": [
    "# where clause to select statement\n",
    "# group by clause"
   ]
  },
  {
   "cell_type": "markdown",
   "metadata": {},
   "source": [
    "### Data cleaming\n",
    "- whenever you have a lot of missing records values in the given data set then you can isnull() \n",
    "- isnull() will notify the any missing values in the dataframe"
   ]
  },
  {
   "cell_type": "code",
   "execution_count": 48,
   "metadata": {},
   "outputs": [
    {
     "data": {
      "text/plain": [
       "Season    0\n",
       "Daynum    3\n",
       "Wteam     6\n",
       "Wscore    2\n",
       "Lteam     4\n",
       "Lscore    1\n",
       "Wloc      0\n",
       "Numot     0\n",
       "dtype: int64"
      ]
     },
     "execution_count": 48,
     "metadata": {},
     "output_type": "execute_result"
    }
   ],
   "source": [
    "# Enter data set\n",
    "df.isnull().sum()"
   ]
  },
  {
   "cell_type": "code",
   "execution_count": 49,
   "metadata": {},
   "outputs": [
    {
     "data": {
      "text/plain": [
       "0"
      ]
     },
     "execution_count": 49,
     "metadata": {},
     "output_type": "execute_result"
    }
   ],
   "source": [
    "# Only column missing values\n",
    "df['Season'].isnull().sum()"
   ]
  },
  {
   "cell_type": "markdown",
   "metadata": {},
   "source": [
    "- dropna() this function allows you to drop all or som rows tat have missing values\n",
    "- fillnull() this function allows you to replace the rows that have missing values with the value what you want pass"
   ]
  },
  {
   "cell_type": "code",
   "execution_count": 51,
   "metadata": {},
   "outputs": [],
   "source": [
    "df['Season'].fillna('Testing',inplace=True)"
   ]
  },
  {
   "cell_type": "code",
   "execution_count": 52,
   "metadata": {},
   "outputs": [
    {
     "data": {
      "text/html": [
       "<div>\n",
       "<style scoped>\n",
       "    .dataframe tbody tr th:only-of-type {\n",
       "        vertical-align: middle;\n",
       "    }\n",
       "\n",
       "    .dataframe tbody tr th {\n",
       "        vertical-align: top;\n",
       "    }\n",
       "\n",
       "    .dataframe thead th {\n",
       "        text-align: right;\n",
       "    }\n",
       "</style>\n",
       "<table border=\"1\" class=\"dataframe\">\n",
       "  <thead>\n",
       "    <tr style=\"text-align: right;\">\n",
       "      <th></th>\n",
       "      <th>Season</th>\n",
       "      <th>Daynum</th>\n",
       "      <th>Wteam</th>\n",
       "      <th>Wscore</th>\n",
       "      <th>Lteam</th>\n",
       "      <th>Lscore</th>\n",
       "      <th>Wloc</th>\n",
       "      <th>Numot</th>\n",
       "    </tr>\n",
       "  </thead>\n",
       "  <tbody>\n",
       "    <tr>\n",
       "      <th>0</th>\n",
       "      <td>1985</td>\n",
       "      <td>20.0</td>\n",
       "      <td>1228.0</td>\n",
       "      <td>81.0</td>\n",
       "      <td>1328.0</td>\n",
       "      <td>64.0</td>\n",
       "      <td>N</td>\n",
       "      <td>0</td>\n",
       "    </tr>\n",
       "    <tr>\n",
       "      <th>1</th>\n",
       "      <td>1985</td>\n",
       "      <td>25.0</td>\n",
       "      <td>1106.0</td>\n",
       "      <td>77.0</td>\n",
       "      <td>1354.0</td>\n",
       "      <td>70.0</td>\n",
       "      <td>H</td>\n",
       "      <td>0</td>\n",
       "    </tr>\n",
       "    <tr>\n",
       "      <th>2</th>\n",
       "      <td>1985</td>\n",
       "      <td>25.0</td>\n",
       "      <td>1112.0</td>\n",
       "      <td>63.0</td>\n",
       "      <td>1223.0</td>\n",
       "      <td>56.0</td>\n",
       "      <td>H</td>\n",
       "      <td>0</td>\n",
       "    </tr>\n",
       "    <tr>\n",
       "      <th>3</th>\n",
       "      <td>1985</td>\n",
       "      <td>25.0</td>\n",
       "      <td>1165.0</td>\n",
       "      <td>70.0</td>\n",
       "      <td>1432.0</td>\n",
       "      <td>54.0</td>\n",
       "      <td>H</td>\n",
       "      <td>0</td>\n",
       "    </tr>\n",
       "    <tr>\n",
       "      <th>4</th>\n",
       "      <td>1985</td>\n",
       "      <td>25.0</td>\n",
       "      <td>1192.0</td>\n",
       "      <td>86.0</td>\n",
       "      <td>1447.0</td>\n",
       "      <td>74.0</td>\n",
       "      <td>H</td>\n",
       "      <td>0</td>\n",
       "    </tr>\n",
       "    <tr>\n",
       "      <th>5</th>\n",
       "      <td>1985</td>\n",
       "      <td>25.0</td>\n",
       "      <td>1218.0</td>\n",
       "      <td>79.0</td>\n",
       "      <td>1337.0</td>\n",
       "      <td>78.0</td>\n",
       "      <td>H</td>\n",
       "      <td>0</td>\n",
       "    </tr>\n",
       "    <tr>\n",
       "      <th>6</th>\n",
       "      <td>1985</td>\n",
       "      <td>25.0</td>\n",
       "      <td>1228.0</td>\n",
       "      <td>64.0</td>\n",
       "      <td>1226.0</td>\n",
       "      <td>44.0</td>\n",
       "      <td>N</td>\n",
       "      <td>0</td>\n",
       "    </tr>\n",
       "    <tr>\n",
       "      <th>7</th>\n",
       "      <td>1985</td>\n",
       "      <td>25.0</td>\n",
       "      <td>1242.0</td>\n",
       "      <td>58.0</td>\n",
       "      <td>1268.0</td>\n",
       "      <td>56.0</td>\n",
       "      <td>N</td>\n",
       "      <td>0</td>\n",
       "    </tr>\n",
       "    <tr>\n",
       "      <th>8</th>\n",
       "      <td>1985</td>\n",
       "      <td>25.0</td>\n",
       "      <td>1260.0</td>\n",
       "      <td>98.0</td>\n",
       "      <td>1133.0</td>\n",
       "      <td>80.0</td>\n",
       "      <td>H</td>\n",
       "      <td>0</td>\n",
       "    </tr>\n",
       "    <tr>\n",
       "      <th>9</th>\n",
       "      <td>1985</td>\n",
       "      <td>25.0</td>\n",
       "      <td>1305.0</td>\n",
       "      <td>97.0</td>\n",
       "      <td>1424.0</td>\n",
       "      <td>89.0</td>\n",
       "      <td>H</td>\n",
       "      <td>0</td>\n",
       "    </tr>\n",
       "    <tr>\n",
       "      <th>10</th>\n",
       "      <td>1985</td>\n",
       "      <td>NaN</td>\n",
       "      <td>1307.0</td>\n",
       "      <td>103.0</td>\n",
       "      <td>1288.0</td>\n",
       "      <td>71.0</td>\n",
       "      <td>H</td>\n",
       "      <td>0</td>\n",
       "    </tr>\n",
       "    <tr>\n",
       "      <th>11</th>\n",
       "      <td>1985</td>\n",
       "      <td>25.0</td>\n",
       "      <td>1344.0</td>\n",
       "      <td>75.0</td>\n",
       "      <td>1438.0</td>\n",
       "      <td>71.0</td>\n",
       "      <td>N</td>\n",
       "      <td>0</td>\n",
       "    </tr>\n",
       "    <tr>\n",
       "      <th>12</th>\n",
       "      <td>1985</td>\n",
       "      <td>25.0</td>\n",
       "      <td>1374.0</td>\n",
       "      <td>91.0</td>\n",
       "      <td>1411.0</td>\n",
       "      <td>72.0</td>\n",
       "      <td>H</td>\n",
       "      <td>0</td>\n",
       "    </tr>\n",
       "    <tr>\n",
       "      <th>13</th>\n",
       "      <td>1985</td>\n",
       "      <td>25.0</td>\n",
       "      <td>1412.0</td>\n",
       "      <td>70.0</td>\n",
       "      <td>NaN</td>\n",
       "      <td>65.0</td>\n",
       "      <td>N</td>\n",
       "      <td>0</td>\n",
       "    </tr>\n",
       "    <tr>\n",
       "      <th>14</th>\n",
       "      <td>1985</td>\n",
       "      <td>25.0</td>\n",
       "      <td>1417.0</td>\n",
       "      <td>87.0</td>\n",
       "      <td>1225.0</td>\n",
       "      <td>58.0</td>\n",
       "      <td>H</td>\n",
       "      <td>0</td>\n",
       "    </tr>\n",
       "    <tr>\n",
       "      <th>15</th>\n",
       "      <td>1985</td>\n",
       "      <td>26.0</td>\n",
       "      <td>1116.0</td>\n",
       "      <td>65.0</td>\n",
       "      <td>1368.0</td>\n",
       "      <td>62.0</td>\n",
       "      <td>H</td>\n",
       "      <td>0</td>\n",
       "    </tr>\n",
       "    <tr>\n",
       "      <th>16</th>\n",
       "      <td>1985</td>\n",
       "      <td>26.0</td>\n",
       "      <td>1120.0</td>\n",
       "      <td>92.0</td>\n",
       "      <td>1391.0</td>\n",
       "      <td>50.0</td>\n",
       "      <td>H</td>\n",
       "      <td>0</td>\n",
       "    </tr>\n",
       "    <tr>\n",
       "      <th>17</th>\n",
       "      <td>1985</td>\n",
       "      <td>26.0</td>\n",
       "      <td>1135.0</td>\n",
       "      <td>65.0</td>\n",
       "      <td>1306.0</td>\n",
       "      <td>60.0</td>\n",
       "      <td>A</td>\n",
       "      <td>0</td>\n",
       "    </tr>\n",
       "    <tr>\n",
       "      <th>18</th>\n",
       "      <td>1985</td>\n",
       "      <td>26.0</td>\n",
       "      <td>1143.0</td>\n",
       "      <td>58.0</td>\n",
       "      <td>1388.0</td>\n",
       "      <td>53.0</td>\n",
       "      <td>H</td>\n",
       "      <td>0</td>\n",
       "    </tr>\n",
       "    <tr>\n",
       "      <th>19</th>\n",
       "      <td>1985</td>\n",
       "      <td>26.0</td>\n",
       "      <td>1153.0</td>\n",
       "      <td>50.0</td>\n",
       "      <td>1184.0</td>\n",
       "      <td>48.0</td>\n",
       "      <td>H</td>\n",
       "      <td>0</td>\n",
       "    </tr>\n",
       "    <tr>\n",
       "      <th>20</th>\n",
       "      <td>1985</td>\n",
       "      <td>26.0</td>\n",
       "      <td>1165.0</td>\n",
       "      <td>47.0</td>\n",
       "      <td>1159.0</td>\n",
       "      <td>40.0</td>\n",
       "      <td>A</td>\n",
       "      <td>0</td>\n",
       "    </tr>\n",
       "    <tr>\n",
       "      <th>21</th>\n",
       "      <td>1985</td>\n",
       "      <td>26.0</td>\n",
       "      <td>NaN</td>\n",
       "      <td>55.0</td>\n",
       "      <td>1216.0</td>\n",
       "      <td>52.0</td>\n",
       "      <td>H</td>\n",
       "      <td>0</td>\n",
       "    </tr>\n",
       "    <tr>\n",
       "      <th>22</th>\n",
       "      <td>1985</td>\n",
       "      <td>26.0</td>\n",
       "      <td>1173.0</td>\n",
       "      <td>76.0</td>\n",
       "      <td>1134.0</td>\n",
       "      <td>56.0</td>\n",
       "      <td>H</td>\n",
       "      <td>0</td>\n",
       "    </tr>\n",
       "    <tr>\n",
       "      <th>23</th>\n",
       "      <td>1985</td>\n",
       "      <td>26.0</td>\n",
       "      <td>1177.0</td>\n",
       "      <td>59.0</td>\n",
       "      <td>1296.0</td>\n",
       "      <td>NaN</td>\n",
       "      <td>H</td>\n",
       "      <td>0</td>\n",
       "    </tr>\n",
       "    <tr>\n",
       "      <th>24</th>\n",
       "      <td>1985</td>\n",
       "      <td>26.0</td>\n",
       "      <td>1193.0</td>\n",
       "      <td>79.0</td>\n",
       "      <td>1265.0</td>\n",
       "      <td>76.0</td>\n",
       "      <td>A</td>\n",
       "      <td>0</td>\n",
       "    </tr>\n",
       "    <tr>\n",
       "      <th>25</th>\n",
       "      <td>1985</td>\n",
       "      <td>26.0</td>\n",
       "      <td>1196.0</td>\n",
       "      <td>106.0</td>\n",
       "      <td>1416.0</td>\n",
       "      <td>55.0</td>\n",
       "      <td>H</td>\n",
       "      <td>0</td>\n",
       "    </tr>\n",
       "    <tr>\n",
       "      <th>26</th>\n",
       "      <td>1985</td>\n",
       "      <td>26.0</td>\n",
       "      <td>1206.0</td>\n",
       "      <td>95.0</td>\n",
       "      <td>1137.0</td>\n",
       "      <td>77.0</td>\n",
       "      <td>H</td>\n",
       "      <td>0</td>\n",
       "    </tr>\n",
       "    <tr>\n",
       "      <th>27</th>\n",
       "      <td>1985</td>\n",
       "      <td>26.0</td>\n",
       "      <td>1210.0</td>\n",
       "      <td>79.0</td>\n",
       "      <td>1149.0</td>\n",
       "      <td>66.0</td>\n",
       "      <td>H</td>\n",
       "      <td>0</td>\n",
       "    </tr>\n",
       "    <tr>\n",
       "      <th>28</th>\n",
       "      <td>1985</td>\n",
       "      <td>26.0</td>\n",
       "      <td>1211.0</td>\n",
       "      <td>64.0</td>\n",
       "      <td>1102.0</td>\n",
       "      <td>59.0</td>\n",
       "      <td>A</td>\n",
       "      <td>0</td>\n",
       "    </tr>\n",
       "    <tr>\n",
       "      <th>29</th>\n",
       "      <td>1985</td>\n",
       "      <td>26.0</td>\n",
       "      <td>1234.0</td>\n",
       "      <td>76.0</td>\n",
       "      <td>1114.0</td>\n",
       "      <td>47.0</td>\n",
       "      <td>H</td>\n",
       "      <td>0</td>\n",
       "    </tr>\n",
       "    <tr>\n",
       "      <th>...</th>\n",
       "      <td>...</td>\n",
       "      <td>...</td>\n",
       "      <td>...</td>\n",
       "      <td>...</td>\n",
       "      <td>...</td>\n",
       "      <td>...</td>\n",
       "      <td>...</td>\n",
       "      <td>...</td>\n",
       "    </tr>\n",
       "    <tr>\n",
       "      <th>145259</th>\n",
       "      <td>2016</td>\n",
       "      <td>130.0</td>\n",
       "      <td>1452.0</td>\n",
       "      <td>69.0</td>\n",
       "      <td>1328.0</td>\n",
       "      <td>67.0</td>\n",
       "      <td>N</td>\n",
       "      <td>0</td>\n",
       "    </tr>\n",
       "    <tr>\n",
       "      <th>145260</th>\n",
       "      <td>2016</td>\n",
       "      <td>131.0</td>\n",
       "      <td>1114.0</td>\n",
       "      <td>72.0</td>\n",
       "      <td>1418.0</td>\n",
       "      <td>65.0</td>\n",
       "      <td>N</td>\n",
       "      <td>0</td>\n",
       "    </tr>\n",
       "    <tr>\n",
       "      <th>145261</th>\n",
       "      <td>2016</td>\n",
       "      <td>131.0</td>\n",
       "      <td>1138.0</td>\n",
       "      <td>64.0</td>\n",
       "      <td>1103.0</td>\n",
       "      <td>61.0</td>\n",
       "      <td>N</td>\n",
       "      <td>0</td>\n",
       "    </tr>\n",
       "    <tr>\n",
       "      <th>145262</th>\n",
       "      <td>2016</td>\n",
       "      <td>131.0</td>\n",
       "      <td>1163.0</td>\n",
       "      <td>77.0</td>\n",
       "      <td>1396.0</td>\n",
       "      <td>62.0</td>\n",
       "      <td>N</td>\n",
       "      <td>0</td>\n",
       "    </tr>\n",
       "    <tr>\n",
       "      <th>145263</th>\n",
       "      <td>2016</td>\n",
       "      <td>131.0</td>\n",
       "      <td>1167.0</td>\n",
       "      <td>57.0</td>\n",
       "      <td>1308.0</td>\n",
       "      <td>54.0</td>\n",
       "      <td>N</td>\n",
       "      <td>0</td>\n",
       "    </tr>\n",
       "    <tr>\n",
       "      <th>145264</th>\n",
       "      <td>2016</td>\n",
       "      <td>131.0</td>\n",
       "      <td>1201.0</td>\n",
       "      <td>68.0</td>\n",
       "      <td>1361.0</td>\n",
       "      <td>63.0</td>\n",
       "      <td>N</td>\n",
       "      <td>0</td>\n",
       "    </tr>\n",
       "    <tr>\n",
       "      <th>145265</th>\n",
       "      <td>2016</td>\n",
       "      <td>131.0</td>\n",
       "      <td>1214.0</td>\n",
       "      <td>81.0</td>\n",
       "      <td>1354.0</td>\n",
       "      <td>69.0</td>\n",
       "      <td>N</td>\n",
       "      <td>0</td>\n",
       "    </tr>\n",
       "    <tr>\n",
       "      <th>145266</th>\n",
       "      <td>2016</td>\n",
       "      <td>131.0</td>\n",
       "      <td>1218.0</td>\n",
       "      <td>64.0</td>\n",
       "      <td>1253.0</td>\n",
       "      <td>60.0</td>\n",
       "      <td>N</td>\n",
       "      <td>0</td>\n",
       "    </tr>\n",
       "    <tr>\n",
       "      <th>145267</th>\n",
       "      <td>2016</td>\n",
       "      <td>131.0</td>\n",
       "      <td>1242.0</td>\n",
       "      <td>81.0</td>\n",
       "      <td>1452.0</td>\n",
       "      <td>71.0</td>\n",
       "      <td>N</td>\n",
       "      <td>0</td>\n",
       "    </tr>\n",
       "    <tr>\n",
       "      <th>145268</th>\n",
       "      <td>2016</td>\n",
       "      <td>131.0</td>\n",
       "      <td>1246.0</td>\n",
       "      <td>93.0</td>\n",
       "      <td>1208.0</td>\n",
       "      <td>80.0</td>\n",
       "      <td>N</td>\n",
       "      <td>0</td>\n",
       "    </tr>\n",
       "    <tr>\n",
       "      <th>145269</th>\n",
       "      <td>2016</td>\n",
       "      <td>131.0</td>\n",
       "      <td>1272.0</td>\n",
       "      <td>74.0</td>\n",
       "      <td>1408.0</td>\n",
       "      <td>54.0</td>\n",
       "      <td>N</td>\n",
       "      <td>0</td>\n",
       "    </tr>\n",
       "    <tr>\n",
       "      <th>145270</th>\n",
       "      <td>2016</td>\n",
       "      <td>131.0</td>\n",
       "      <td>1277.0</td>\n",
       "      <td>64.0</td>\n",
       "      <td>1268.0</td>\n",
       "      <td>61.0</td>\n",
       "      <td>N</td>\n",
       "      <td>0</td>\n",
       "    </tr>\n",
       "    <tr>\n",
       "      <th>145271</th>\n",
       "      <td>2016</td>\n",
       "      <td>131.0</td>\n",
       "      <td>1292.0</td>\n",
       "      <td>55.0</td>\n",
       "      <td>1330.0</td>\n",
       "      <td>53.0</td>\n",
       "      <td>N</td>\n",
       "      <td>0</td>\n",
       "    </tr>\n",
       "    <tr>\n",
       "      <th>145272</th>\n",
       "      <td>2016</td>\n",
       "      <td>131.0</td>\n",
       "      <td>1314.0</td>\n",
       "      <td>61.0</td>\n",
       "      <td>1438.0</td>\n",
       "      <td>57.0</td>\n",
       "      <td>N</td>\n",
       "      <td>0</td>\n",
       "    </tr>\n",
       "    <tr>\n",
       "      <th>145273</th>\n",
       "      <td>2016</td>\n",
       "      <td>131.0</td>\n",
       "      <td>1332.0</td>\n",
       "      <td>88.0</td>\n",
       "      <td>1428.0</td>\n",
       "      <td>57.0</td>\n",
       "      <td>N</td>\n",
       "      <td>0</td>\n",
       "    </tr>\n",
       "    <tr>\n",
       "      <th>145274</th>\n",
       "      <td>2016</td>\n",
       "      <td>131.0</td>\n",
       "      <td>1345.0</td>\n",
       "      <td>76.0</td>\n",
       "      <td>1276.0</td>\n",
       "      <td>59.0</td>\n",
       "      <td>N</td>\n",
       "      <td>0</td>\n",
       "    </tr>\n",
       "    <tr>\n",
       "      <th>145275</th>\n",
       "      <td>2016</td>\n",
       "      <td>131.0</td>\n",
       "      <td>1371.0</td>\n",
       "      <td>69.0</td>\n",
       "      <td>1437.0</td>\n",
       "      <td>67.0</td>\n",
       "      <td>N</td>\n",
       "      <td>0</td>\n",
       "    </tr>\n",
       "    <tr>\n",
       "      <th>145276</th>\n",
       "      <td>2016</td>\n",
       "      <td>131.0</td>\n",
       "      <td>1372.0</td>\n",
       "      <td>82.0</td>\n",
       "      <td>1394.0</td>\n",
       "      <td>60.0</td>\n",
       "      <td>N</td>\n",
       "      <td>0</td>\n",
       "    </tr>\n",
       "    <tr>\n",
       "      <th>145277</th>\n",
       "      <td>2016</td>\n",
       "      <td>131.0</td>\n",
       "      <td>1380.0</td>\n",
       "      <td>54.0</td>\n",
       "      <td>1238.0</td>\n",
       "      <td>53.0</td>\n",
       "      <td>N</td>\n",
       "      <td>0</td>\n",
       "    </tr>\n",
       "    <tr>\n",
       "      <th>145278</th>\n",
       "      <td>2016</td>\n",
       "      <td>131.0</td>\n",
       "      <td>1386.0</td>\n",
       "      <td>82.0</td>\n",
       "      <td>1173.0</td>\n",
       "      <td>79.0</td>\n",
       "      <td>N</td>\n",
       "      <td>0</td>\n",
       "    </tr>\n",
       "    <tr>\n",
       "      <th>145279</th>\n",
       "      <td>2016</td>\n",
       "      <td>131.0</td>\n",
       "      <td>1392.0</td>\n",
       "      <td>80.0</td>\n",
       "      <td>1436.0</td>\n",
       "      <td>74.0</td>\n",
       "      <td>H</td>\n",
       "      <td>0</td>\n",
       "    </tr>\n",
       "    <tr>\n",
       "      <th>145280</th>\n",
       "      <td>2016</td>\n",
       "      <td>131.0</td>\n",
       "      <td>1401.0</td>\n",
       "      <td>71.0</td>\n",
       "      <td>1261.0</td>\n",
       "      <td>38.0</td>\n",
       "      <td>N</td>\n",
       "      <td>0</td>\n",
       "    </tr>\n",
       "    <tr>\n",
       "      <th>145281</th>\n",
       "      <td>2016</td>\n",
       "      <td>131.0</td>\n",
       "      <td>1419.0</td>\n",
       "      <td>82.0</td>\n",
       "      <td>1426.0</td>\n",
       "      <td>71.0</td>\n",
       "      <td>N</td>\n",
       "      <td>0</td>\n",
       "    </tr>\n",
       "    <tr>\n",
       "      <th>145282</th>\n",
       "      <td>2016</td>\n",
       "      <td>131.0</td>\n",
       "      <td>1433.0</td>\n",
       "      <td>76.0</td>\n",
       "      <td>1172.0</td>\n",
       "      <td>54.0</td>\n",
       "      <td>N</td>\n",
       "      <td>0</td>\n",
       "    </tr>\n",
       "    <tr>\n",
       "      <th>145283</th>\n",
       "      <td>2016</td>\n",
       "      <td>131.0</td>\n",
       "      <td>1451.0</td>\n",
       "      <td>62.0</td>\n",
       "      <td>1285.0</td>\n",
       "      <td>59.0</td>\n",
       "      <td>N</td>\n",
       "      <td>0</td>\n",
       "    </tr>\n",
       "    <tr>\n",
       "      <th>145284</th>\n",
       "      <td>2016</td>\n",
       "      <td>132.0</td>\n",
       "      <td>1114.0</td>\n",
       "      <td>70.0</td>\n",
       "      <td>1419.0</td>\n",
       "      <td>50.0</td>\n",
       "      <td>N</td>\n",
       "      <td>0</td>\n",
       "    </tr>\n",
       "    <tr>\n",
       "      <th>145285</th>\n",
       "      <td>2016</td>\n",
       "      <td>132.0</td>\n",
       "      <td>1163.0</td>\n",
       "      <td>72.0</td>\n",
       "      <td>1272.0</td>\n",
       "      <td>58.0</td>\n",
       "      <td>N</td>\n",
       "      <td>0</td>\n",
       "    </tr>\n",
       "    <tr>\n",
       "      <th>145286</th>\n",
       "      <td>2016</td>\n",
       "      <td>132.0</td>\n",
       "      <td>1246.0</td>\n",
       "      <td>82.0</td>\n",
       "      <td>1401.0</td>\n",
       "      <td>77.0</td>\n",
       "      <td>N</td>\n",
       "      <td>1</td>\n",
       "    </tr>\n",
       "    <tr>\n",
       "      <th>145287</th>\n",
       "      <td>2016</td>\n",
       "      <td>132.0</td>\n",
       "      <td>1277.0</td>\n",
       "      <td>66.0</td>\n",
       "      <td>1345.0</td>\n",
       "      <td>62.0</td>\n",
       "      <td>N</td>\n",
       "      <td>0</td>\n",
       "    </tr>\n",
       "    <tr>\n",
       "      <th>145288</th>\n",
       "      <td>2016</td>\n",
       "      <td>132.0</td>\n",
       "      <td>1386.0</td>\n",
       "      <td>87.0</td>\n",
       "      <td>1433.0</td>\n",
       "      <td>74.0</td>\n",
       "      <td>N</td>\n",
       "      <td>0</td>\n",
       "    </tr>\n",
       "  </tbody>\n",
       "</table>\n",
       "<p>145289 rows × 8 columns</p>\n",
       "</div>"
      ],
      "text/plain": [
       "        Season  Daynum   Wteam  Wscore   Lteam  Lscore Wloc  Numot\n",
       "0         1985    20.0  1228.0    81.0  1328.0    64.0    N      0\n",
       "1         1985    25.0  1106.0    77.0  1354.0    70.0    H      0\n",
       "2         1985    25.0  1112.0    63.0  1223.0    56.0    H      0\n",
       "3         1985    25.0  1165.0    70.0  1432.0    54.0    H      0\n",
       "4         1985    25.0  1192.0    86.0  1447.0    74.0    H      0\n",
       "5         1985    25.0  1218.0    79.0  1337.0    78.0    H      0\n",
       "6         1985    25.0  1228.0    64.0  1226.0    44.0    N      0\n",
       "7         1985    25.0  1242.0    58.0  1268.0    56.0    N      0\n",
       "8         1985    25.0  1260.0    98.0  1133.0    80.0    H      0\n",
       "9         1985    25.0  1305.0    97.0  1424.0    89.0    H      0\n",
       "10        1985     NaN  1307.0   103.0  1288.0    71.0    H      0\n",
       "11        1985    25.0  1344.0    75.0  1438.0    71.0    N      0\n",
       "12        1985    25.0  1374.0    91.0  1411.0    72.0    H      0\n",
       "13        1985    25.0  1412.0    70.0     NaN    65.0    N      0\n",
       "14        1985    25.0  1417.0    87.0  1225.0    58.0    H      0\n",
       "15        1985    26.0  1116.0    65.0  1368.0    62.0    H      0\n",
       "16        1985    26.0  1120.0    92.0  1391.0    50.0    H      0\n",
       "17        1985    26.0  1135.0    65.0  1306.0    60.0    A      0\n",
       "18        1985    26.0  1143.0    58.0  1388.0    53.0    H      0\n",
       "19        1985    26.0  1153.0    50.0  1184.0    48.0    H      0\n",
       "20        1985    26.0  1165.0    47.0  1159.0    40.0    A      0\n",
       "21        1985    26.0     NaN    55.0  1216.0    52.0    H      0\n",
       "22        1985    26.0  1173.0    76.0  1134.0    56.0    H      0\n",
       "23        1985    26.0  1177.0    59.0  1296.0     NaN    H      0\n",
       "24        1985    26.0  1193.0    79.0  1265.0    76.0    A      0\n",
       "25        1985    26.0  1196.0   106.0  1416.0    55.0    H      0\n",
       "26        1985    26.0  1206.0    95.0  1137.0    77.0    H      0\n",
       "27        1985    26.0  1210.0    79.0  1149.0    66.0    H      0\n",
       "28        1985    26.0  1211.0    64.0  1102.0    59.0    A      0\n",
       "29        1985    26.0  1234.0    76.0  1114.0    47.0    H      0\n",
       "...        ...     ...     ...     ...     ...     ...  ...    ...\n",
       "145259    2016   130.0  1452.0    69.0  1328.0    67.0    N      0\n",
       "145260    2016   131.0  1114.0    72.0  1418.0    65.0    N      0\n",
       "145261    2016   131.0  1138.0    64.0  1103.0    61.0    N      0\n",
       "145262    2016   131.0  1163.0    77.0  1396.0    62.0    N      0\n",
       "145263    2016   131.0  1167.0    57.0  1308.0    54.0    N      0\n",
       "145264    2016   131.0  1201.0    68.0  1361.0    63.0    N      0\n",
       "145265    2016   131.0  1214.0    81.0  1354.0    69.0    N      0\n",
       "145266    2016   131.0  1218.0    64.0  1253.0    60.0    N      0\n",
       "145267    2016   131.0  1242.0    81.0  1452.0    71.0    N      0\n",
       "145268    2016   131.0  1246.0    93.0  1208.0    80.0    N      0\n",
       "145269    2016   131.0  1272.0    74.0  1408.0    54.0    N      0\n",
       "145270    2016   131.0  1277.0    64.0  1268.0    61.0    N      0\n",
       "145271    2016   131.0  1292.0    55.0  1330.0    53.0    N      0\n",
       "145272    2016   131.0  1314.0    61.0  1438.0    57.0    N      0\n",
       "145273    2016   131.0  1332.0    88.0  1428.0    57.0    N      0\n",
       "145274    2016   131.0  1345.0    76.0  1276.0    59.0    N      0\n",
       "145275    2016   131.0  1371.0    69.0  1437.0    67.0    N      0\n",
       "145276    2016   131.0  1372.0    82.0  1394.0    60.0    N      0\n",
       "145277    2016   131.0  1380.0    54.0  1238.0    53.0    N      0\n",
       "145278    2016   131.0  1386.0    82.0  1173.0    79.0    N      0\n",
       "145279    2016   131.0  1392.0    80.0  1436.0    74.0    H      0\n",
       "145280    2016   131.0  1401.0    71.0  1261.0    38.0    N      0\n",
       "145281    2016   131.0  1419.0    82.0  1426.0    71.0    N      0\n",
       "145282    2016   131.0  1433.0    76.0  1172.0    54.0    N      0\n",
       "145283    2016   131.0  1451.0    62.0  1285.0    59.0    N      0\n",
       "145284    2016   132.0  1114.0    70.0  1419.0    50.0    N      0\n",
       "145285    2016   132.0  1163.0    72.0  1272.0    58.0    N      0\n",
       "145286    2016   132.0  1246.0    82.0  1401.0    77.0    N      1\n",
       "145287    2016   132.0  1277.0    66.0  1345.0    62.0    N      0\n",
       "145288    2016   132.0  1386.0    87.0  1433.0    74.0    N      0\n",
       "\n",
       "[145289 rows x 8 columns]"
      ]
     },
     "execution_count": 52,
     "metadata": {},
     "output_type": "execute_result"
    }
   ],
   "source": [
    "df"
   ]
  },
  {
   "cell_type": "markdown",
   "metadata": {},
   "source": [
    "### Numpy library\n",
    "- processing of N-dimensional arrays\n",
    "- numpy is an open source library available in python\n",
    "- this used for math,scientific,data science programming"
   ]
  },
  {
   "cell_type": "code",
   "execution_count": 53,
   "metadata": {},
   "outputs": [
    {
     "name": "stdout",
     "output_type": "stream",
     "text": [
      "[1 2 3 4 5 6]\n",
      "<class 'numpy.ndarray'>\n"
     ]
    }
   ],
   "source": [
    "import numpy as np\n",
    "li=[1,2,3,4,5,6]\n",
    "c1=np.array(li)\n",
    "print(c1)\n",
    "print(type(c1))"
   ]
  },
  {
   "cell_type": "code",
   "execution_count": 54,
   "metadata": {},
   "outputs": [
    {
     "name": "stdout",
     "output_type": "stream",
     "text": [
      "(6,)\n",
      "int32\n"
     ]
    }
   ],
   "source": [
    "print(c1.shape)\n",
    "print(c1.dtype)"
   ]
  },
  {
   "cell_type": "code",
   "execution_count": 55,
   "metadata": {},
   "outputs": [
    {
     "data": {
      "text/plain": [
       "array([[1, 2, 3],\n",
       "       [4, 5, 6]])"
      ]
     },
     "execution_count": 55,
     "metadata": {},
     "output_type": "execute_result"
    }
   ],
   "source": [
    "# 2 dimensional representation\n",
    "a1=np.array([(1,2,3),(4,5,6)])\n",
    "a1"
   ]
  },
  {
   "cell_type": "code",
   "execution_count": 58,
   "metadata": {},
   "outputs": [
    {
     "name": "stdout",
     "output_type": "stream",
     "text": [
      "(2, 3)\n",
      "int32\n"
     ]
    }
   ],
   "source": [
    "print(a1.shape)\n",
    "print(a1.dtype)"
   ]
  },
  {
   "cell_type": "markdown",
   "metadata": {},
   "source": [
    "### np.zeros() np.ones()\n",
    "- To initialize the weights during th first iteration of transflow"
   ]
  },
  {
   "cell_type": "code",
   "execution_count": 59,
   "metadata": {},
   "outputs": [
    {
     "name": "stdout",
     "output_type": "stream",
     "text": [
      "[[0. 0.]\n",
      " [0. 0.]]\n"
     ]
    }
   ],
   "source": [
    "x= np.zeros((2,2)) # dtype as float\n",
    "print(x)"
   ]
  },
  {
   "cell_type": "code",
   "execution_count": 61,
   "metadata": {},
   "outputs": [
    {
     "name": "stdout",
     "output_type": "stream",
     "text": [
      "[[0 0]\n",
      " [0 0]]\n"
     ]
    }
   ],
   "source": [
    "x = np.zeros((2,2),dtype=np.int16)\n",
    "print(x)"
   ]
  },
  {
   "cell_type": "code",
   "execution_count": 62,
   "metadata": {},
   "outputs": [
    {
     "name": "stdout",
     "output_type": "stream",
     "text": [
      "[[0 0]\n",
      " [0 0]]\n"
     ]
    }
   ],
   "source": [
    "xp=np.ones((3,3),dtype=np.int16)\n",
    "print(x)"
   ]
  },
  {
   "cell_type": "code",
   "execution_count": 64,
   "metadata": {},
   "outputs": [
    {
     "name": "stdout",
     "output_type": "stream",
     "text": [
      "[ 0  1  2  3  4  5  6  7  8  9 10 11 12 13 14]\n"
     ]
    }
   ],
   "source": [
    "x2=np.arange(15)\n",
    "print(x2)"
   ]
  },
  {
   "cell_type": "code",
   "execution_count": 65,
   "metadata": {},
   "outputs": [
    {
     "name": "stdout",
     "output_type": "stream",
     "text": [
      "[[ 0  1  2]\n",
      " [ 3  4  5]\n",
      " [ 6  7  8]\n",
      " [ 9 10 11]\n",
      " [12 13 14]]\n"
     ]
    }
   ],
   "source": [
    "# convert the single dimensional to two dimensional arrey\n",
    "x3=x2.reshape(5,3)\n",
    "print(x3)"
   ]
  },
  {
   "cell_type": "code",
   "execution_count": 66,
   "metadata": {},
   "outputs": [
    {
     "name": "stdout",
     "output_type": "stream",
     "text": [
      "[[10 11 12]\n",
      " [13 14 15]\n",
      " [16 17 18]\n",
      " [19 20 21]\n",
      " [22 23 24]]\n"
     ]
    }
   ],
   "source": [
    "x4=x3 + 10\n",
    "print(x4)"
   ]
  },
  {
   "cell_type": "code",
   "execution_count": 68,
   "metadata": {},
   "outputs": [
    {
     "name": "stdout",
     "output_type": "stream",
     "text": [
      "[[0.   0.25 0.5 ]\n",
      " [0.75 1.   1.25]\n",
      " [1.5  1.75 2.  ]\n",
      " [2.25 2.5  2.75]\n",
      " [3.   3.25 3.5 ]]\n"
     ]
    }
   ],
   "source": [
    "x4=x3/4\n",
    "print(x4)"
   ]
  },
  {
   "cell_type": "markdown",
   "metadata": {},
   "source": [
    "### Visualising Data\n",
    "- An interesting way to diplay dataframe\n",
    "- With matplotlib"
   ]
  },
  {
   "cell_type": "code",
   "execution_count": 70,
   "metadata": {},
   "outputs": [
    {
     "data": {
      "image/png": "[encoded data removed]",
      "text/plain": [
       "<Figure size 360x360 with 1 Axes>"
      ]
     },
     "metadata": {
      "needs_background": "light"
     },
     "output_type": "display_data"
    }
   ],
   "source": [
    "import matplotlib.pyplot as plt\n",
    "a1=[1,2,3,4]\n",
    "a2=[5,6,7,8]\n",
    "plt.figure(figsize=(5,5))\n",
    "plt.plot(a1,a2,color='green')\n",
    "plt.xlabel('x-Axis')\n",
    "plt.ylabel('y-Axis')\n",
    "plt.show()"
   ]
  },
  {
   "cell_type": "code",
   "execution_count": null,
   "metadata": {},
   "outputs": [],
   "source": [
    "marks=[79,82,75,63]\n",
    "avg_marks=\n",
    "division=['A','B','C','D']\n"
   ]
  },
  {
   "cell_type": "code",
   "execution_count": 71,
   "metadata": {},
   "outputs": [
    {
     "data": {
      "text/plain": [
       "<BarContainer object of 4 artists>"
      ]
     },
     "execution_count": 71,
     "metadata": {},
     "output_type": "execute_result"
    },
    {
     "data": {
      "image/png": "[encoded data removed]",
      "text/plain": [
       "<Figure size 432x288 with 1 Axes>"
      ]
     },
     "metadata": {
      "needs_background": "light"
     },
     "output_type": "display_data"
    }
   ],
   "source": [
    "divisions=['A','B','C','D']\n",
    "marks = [79,82,75,63]\n",
    "avg_marks = [65,72,78,89]\n",
    "index = np.arange(len(divisions))\n",
    "plt.bar(divisions,marks,color=\"#1412cd\",width = 0.5)"
   ]
  },
  {
   "cell_type": "code",
   "execution_count": 72,
   "metadata": {},
   "outputs": [
    {
     "data": {
      "image/png": "[encoded data removed]",
      "text/plain": [
       "<Figure size 432x288 with 1 Axes>"
      ]
     },
     "metadata": {
      "needs_background": "light"
     },
     "output_type": "display_data"
    }
   ],
   "source": [
    "plt.barh(divisions,marks,color='blue')\n",
    "plt.show()"
   ]
  },
  {
   "cell_type": "code",
   "execution_count": 73,
   "metadata": {},
   "outputs": [
    {
     "data": {
      "image/png": "[encoded data removed]",
      "text/plain": [
       "<Figure size 432x288 with 1 Axes>"
      ]
     },
     "metadata": {},
     "output_type": "display_data"
    }
   ],
   "source": [
    "lang=['python','java','c','c++']\n",
    "rating=[75,70,55,65]\n",
    "plt.pie(rating,labels=lang,shadow=True,startangle=90,autopct='%1.1f%%')\n",
    "plt.legend(loc='best')\n",
    "plt.show()"
   ]
  },
  {
   "cell_type": "code",
   "execution_count": null,
   "metadata": {},
   "outputs": [],
   "source": []
  },
  {
   "cell_type": "code",
   "execution_count": null,
   "metadata": {},
   "outputs": [],
   "source": []
  }
 ],
 "metadata": {
  "kernelspec": {
   "display_name": "Python 3",
   "language": "python",
   "name": "python3"
  },
  "language_info": {
   "codemirror_mode": {
    "name": "ipython",
    "version": 3
   },
   "file_extension": ".py",
   "mimetype": "text/x-python",
   "name": "python",
   "nbconvert_exporter": "python",
   "pygments_lexer": "ipython3",
   "version": "3.7.3"
  }
 },
 "nbformat": 4,
 "nbformat_minor": 2
}
